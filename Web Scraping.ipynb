{
 "cells": [
  {
   "cell_type": "markdown",
   "id": "5d6b34e7",
   "metadata": {},
   "source": [
    "# Web scraping \n",
    "Web scraping, processo de extração de dados de uma página da Internet."
   ]
  },
  {
   "cell_type": "markdown",
   "id": "7faa730b",
   "metadata": {},
   "source": [
    "### 1. Módulo requests para obter uma página da Internet"
   ]
  },
  {
   "cell_type": "code",
   "execution_count": null,
   "id": "be7d9fc2",
   "metadata": {},
   "outputs": [],
   "source": [
    "pip install requests"
   ]
  },
  {
   "cell_type": "code",
   "execution_count": null,
   "id": "a75ac915",
   "metadata": {},
   "outputs": [],
   "source": [
    "# vamos descarregar a página de TFCs do site do departamento de informática\n",
    "\n",
    "url = 'https://informatica.ulusofona.pt/defesas/trabalhos-finais-de-curso/'"
   ]
  },
  {
   "cell_type": "code",
   "execution_count": 43,
   "id": "a85431d1",
   "metadata": {},
   "outputs": [
    {
     "data": {
      "text/plain": [
       "b'<!DOCTYPE html>\\n<html lang=\"pt-PT\">\\n    <head>\\n        <meta charset=\"UTF-8\">\\n        <meta http-equiv=\"X-UA-Compatible\" content=\"IE=edge\">\\n        <meta name=\"viewport\" content=\"width=device-width, initial-scale=1\">\\n        <link rel=\"shortcut icon\" href=\"/wp-content/uploads/sites/57/2015/03/favicon-551a81b7v1_site_icon.png\">\\n        <link rel=\"apple-touch-icon\" href=\"/wp-content/uploads/sites/57/2015/03/favicon-551a81b7v1_site_icon.png\">\\n                <title>Trabalhos Finais de Curso &#8211;'"
      ]
     },
     "execution_count": 43,
     "metadata": {},
     "output_type": "execute_result"
    }
   ],
   "source": [
    "import requests\n",
    "\n",
    "# descarregamento do conteúdo do URL ocm pedido get\n",
    "response = requests.get(url)\n",
    "\n",
    "# conteúdo do ficheiro HTML descarregado (só primeiros 500 carateres)\n",
    "response.content[:500]"
   ]
  },
  {
   "cell_type": "markdown",
   "id": "6ee50040",
   "metadata": {},
   "source": [
    "### 2. Modulo bs4 (BeautifulSoup) para processar conteúdo HTML"
   ]
  },
  {
   "cell_type": "code",
   "execution_count": null,
   "id": "b4f41667",
   "metadata": {},
   "outputs": [],
   "source": [
    "pip install bs4"
   ]
  },
  {
   "cell_type": "code",
   "execution_count": 45,
   "id": "ee946628",
   "metadata": {},
   "outputs": [],
   "source": [
    "from bs4 import BeautifulSoup\n",
    "\n",
    "# conversão, com um analisador de HTML (parser), que permite navegar pelos elementos do ficheiro HTML como DOM \n",
    "soup = BeautifulSoup(response.content, 'html.parser')"
   ]
  },
  {
   "cell_type": "code",
   "execution_count": 48,
   "id": "fccff4bf",
   "metadata": {},
   "outputs": [
    {
     "data": {
      "text/plain": [
       "<title>Trabalhos Finais de Curso – DEISI INFORMÁTICA</title>"
      ]
     },
     "execution_count": 48,
     "metadata": {},
     "output_type": "execute_result"
    }
   ],
   "source": [
    "soup.title # as etiquetas HTML são atributos. Neste caso, retorna o elemento 'title'"
   ]
  },
  {
   "cell_type": "code",
   "execution_count": 47,
   "id": "b06e837e",
   "metadata": {},
   "outputs": [
    {
     "data": {
      "text/plain": [
       "'Trabalhos Finais de Curso – DEISI INFORMÁTICA'"
      ]
     },
     "execution_count": 47,
     "metadata": {},
     "output_type": "execute_result"
    }
   ],
   "source": [
    "soup.title.text # retorna o texto do elemento 'title'"
   ]
  },
  {
   "cell_type": "code",
   "execution_count": 49,
   "id": "62382a28",
   "metadata": {},
   "outputs": [
    {
     "data": {
      "text/plain": [
       "<table class=\"uk-table uk-table-divider uk-table-small\">\n",
       "<thead>\n",
       "<tr>\n",
       "<th>Aluno(s)</th>\n",
       "<th>Titulo</th>\n",
       "<th>Orientador</th>\n",
       "<th>Entidade</th>\n",
       "</tr>\n",
       "</thead>\n",
       "<tbody>\n",
       "<tr>\n",
       "<td>Paulo Pinto</td>\n",
       "<td><b><a href=\"http://informatica.ulusofona.pt/wp-content/uploads/sites/57/2022/10/TFC_22_DEISI258.pdf\" rel=\"noopener\" target=\"_blank\">Modelamento multi-agente de interações em grupos sociais.</a></b> <a href=\"https://www.youtube.com/watch?v=Kxuzy2PXCTc\" rel=\"noopener\" target=\"_blank\">🎬</a></td>\n",
       "<td>Manuel Marques Pita</td>\n",
       "<td></td>\n",
       "</tr>\n",
       "<tr>\n",
       "<td>Eduardo Miranda</td>\n",
       "<td><b><a href=\"http://informatica.ulusofona.pt/wp-content/uploads/sites/57/2022/10/TFC_22_DEISI217.pdf\" rel=\"noopener\" target=\"_blank\">Site DEISI</a></b> <a href=\"https://www.youtube.com/1EctmhZAYg8\" rel=\"noopener\" target=\"_blank\">🎬</a></td>\n",
       "<td>Pedro Alves</td>\n",
       "<td></td>\n",
       "</tr>\n",
       "<tr>\n",
       "<td>Nuno Rasteiro</td>\n",
       "<td><b><a href=\"http://informatica.ulusofona.pt/wp-content/uploads/sites/57/2022/10/TFC_22_DEISI233.pdf\" rel=\"noopener\" target=\"_blank\">Aplicação Web para transformação digital do protocolo MentHA</a></b> <a href=\"https://www.youtube.com/watch?v=etwXe0GtgBo\" rel=\"noopener\" target=\"_blank\">🎬</a></td>\n",
       "<td>Lúcio Studer</td>\n",
       "<td>Direção Geral da Saúde (coorientador: Prof. Pedro Santos)</td>\n",
       "</tr>\n",
       "<tr>\n",
       "<td>Tiago Pereira<br/>\n",
       "Tomás Maia</td>\n",
       "<td><b><a href=\"http://informatica.ulusofona.pt/wp-content/uploads/sites/57/2022/10/TFC_22_DEISI221.pdf\" rel=\"noopener\" target=\"_blank\">Acompanhamento de processos judiciais</a></b> <a href=\"https://www.youtube.com/watch?v=HKOnL0BNuwQ&amp;ab_cha\" rel=\"noopener\" target=\"_blank\">🎬</a></td>\n",
       "<td>Pedro Alves</td>\n",
       "<td>Faculdade de Direito – ULHT</td>\n",
       "</tr>\n",
       "<tr>\n",
       "<td>Edith Cardoso<br/>\n",
       "Diogo Carrilho</td>\n",
       "<td><b><a href=\"http://informatica.ulusofona.pt/wp-content/uploads/sites/57/2022/10/TFC_22_DEISI225.pdf\" rel=\"noopener\" target=\"_blank\">PMO, Gestão de Portfólio de Projetos e Releases</a></b> <a href=\"https://www.youtube.com/playlist?list=PLx68kPfg3cQ\" rel=\"noopener\" target=\"_blank\">🎬</a></td>\n",
       "<td>Acácio Carmona</td>\n",
       "<td></td>\n",
       "</tr>\n",
       "<tr>\n",
       "<td>Ines Rocha<br/>\n",
       "João Santos</td>\n",
       "<td><b><a href=\"http://informatica.ulusofona.pt/wp-content/uploads/sites/57/2022/10/TFC_22_DEISI235.pdf\" rel=\"noopener\" target=\"_blank\">Aplicação Web MenthaCare</a></b> <a href=\"https://www.youtube.com/watch?v=iqmfrwF0xjQ&amp;featur\" rel=\"noopener\" target=\"_blank\">🎬</a></td>\n",
       "<td>Lúcio Studer</td>\n",
       "<td>Direção Geral da Saúde (coorientador: Prof. Pedro Santos)</td>\n",
       "</tr>\n",
       "<tr>\n",
       "<td>Jaime Germano</td>\n",
       "<td><b><a href=\"http://informatica.ulusofona.pt/wp-content/uploads/sites/57/2022/10/TFC_22_DEISI242.pdf\" rel=\"noopener\" target=\"_blank\">Parque de Estacionamento – Back End</a></b> <a href=\"https://www.youtube.com/watch?v=kNjaHaQUppE\" rel=\"noopener\" target=\"_blank\">🎬</a></td>\n",
       "<td>João Carvalho</td>\n",
       "<td></td>\n",
       "</tr>\n",
       "<tr>\n",
       "<td>Leonardo Conceicao<br/>\n",
       "Danilo Foganholi</td>\n",
       "<td><b><a href=\"http://informatica.ulusofona.pt/wp-content/uploads/sites/57/2022/10/TFC_22_Empresa248.pdf\" rel=\"noopener\" target=\"_blank\">Test Automation – IPA (intelligent process automation) component to support business continuity management</a></b> <a href=\"https://www.youtube.com/watch?v=Ljiy5hNmcnU\" rel=\"noopener\" target=\"_blank\">🎬</a></td>\n",
       "<td>José Cascais Brás</td>\n",
       "<td>CGI TI Portugal</td>\n",
       "</tr>\n",
       "<tr>\n",
       "<td>Tiago Silva<br/>\n",
       "Frederico Azevedo</td>\n",
       "<td><b><a href=\"http://informatica.ulusofona.pt/wp-content/uploads/sites/57/2022/10/TFC_22_G255.pdf\" rel=\"noopener\" target=\"_blank\">Combater o desperdício alimentar e ‘controlar’ a despensa</a></b> <a href=\"https://www.youtube.com/watch?v=PbzKVh8oxkc\" rel=\"noopener\" target=\"_blank\">🎬</a></td>\n",
       "<td>Pedro Perdigão</td>\n",
       "<td></td>\n",
       "</tr>\n",
       "<tr>\n",
       "<td>João Ferreira<br/>\n",
       "Tiago Matos</td>\n",
       "<td><b><a href=\"http://informatica.ulusofona.pt/wp-content/uploads/sites/57/2022/10/TFC_22_DEISI256.pdf\" rel=\"noopener\" target=\"_blank\">Tickets e análise estatística – Front End e Back End</a></b> <a href=\"https://www.youtube.com/watch?v=CCnqAmEdNHc&amp;featur\" rel=\"noopener\" target=\"_blank\">🎬</a></td>\n",
       "<td>João Carvalho</td>\n",
       "<td></td>\n",
       "</tr>\n",
       "<tr>\n",
       "<td>Lodney Santos</td>\n",
       "<td><b><a href=\"http://informatica.ulusofona.pt/wp-content/uploads/sites/57/2022/10/TFC_22_Aluno259.pdf\" rel=\"noopener\" target=\"_blank\">Aplicação mobile para requisição de livros de uma biblioteca escolar</a></b> <a href=\"https://www.youtube.com/watch?v=esxH4HMfb_U&amp;t=14s\" rel=\"noopener\" target=\"_blank\">🎬</a></td>\n",
       "<td>Rodrigo Correia</td>\n",
       "<td></td>\n",
       "</tr>\n",
       "<tr>\n",
       "<td>Filipe Coutinho<br/>\n",
       "João Lima</td>\n",
       "<td><b><a href=\"http://informatica.ulusofona.pt/wp-content/uploads/sites/57/2022/10/TFC_22_DEISI211.pdf\" rel=\"noopener\" target=\"_blank\">Plataforma de Monitorização de Impressoras 3D de Construção de Casas</a></b> <a href=\"https://www.youtube.com/watch?v=d0-L-EM2ocE\" rel=\"noopener\" target=\"_blank\">🎬</a></td>\n",
       "<td>Rui Ribeiro</td>\n",
       "<td>Yucoders, Departamento de Engenharia Civil da ULHT e centro de I&amp;D do DEISI Copelabs</td>\n",
       "</tr>\n",
       "<tr>\n",
       "<td>Tomás Neto<br/>\n",
       "Rodrigo Santos</td>\n",
       "<td><b><a href=\"http://informatica.ulusofona.pt/wp-content/uploads/sites/57/2022/10/TFC_22_DEISI212.pdf\" rel=\"noopener\" target=\"_blank\">Buddy abroad – Front End</a></b> <a href=\"https://www.youtube.com/watch?v=vYYuWkk0zUA\" rel=\"noopener\" target=\"_blank\">🎬</a></td>\n",
       "<td>Rui Santos</td>\n",
       "<td>projeto incubadora PLAY</td>\n",
       "</tr>\n",
       "<tr>\n",
       "<td>Nuno Pereira<br/>\n",
       "João Pereira</td>\n",
       "<td><b><a href=\"http://informatica.ulusofona.pt/wp-content/uploads/sites/57/2022/10/TFC_22_DEISI213.pdf\" rel=\"noopener\" target=\"_blank\">Buddy abroad – Back End</a></b> <a href=\"https://www.youtube.com/watch?v=hKgQvEVKCMk\" rel=\"noopener\" target=\"_blank\">🎬</a></td>\n",
       "<td>Rui Santos</td>\n",
       "<td>projeto incubadora PLAY</td>\n",
       "</tr>\n",
       "<tr>\n",
       "<td>Cláudio Caetano<br/>\n",
       "Pedro Costa</td>\n",
       "<td><b><a href=\"http://informatica.ulusofona.pt/wp-content/uploads/sites/57/2022/10/TFC_22_DEISI214.pdf\" rel=\"noopener\" target=\"_blank\">BestRide – Front End</a></b> <a href=\"https://www.youtube.com/watch?v=636JJ5ev--w\" rel=\"noopener\" target=\"_blank\">🎬</a></td>\n",
       "<td>Rui Ribeiro</td>\n",
       "<td>projeto incubadora PLAY</td>\n",
       "</tr>\n",
       "<tr>\n",
       "<td>Telmo Costa</td>\n",
       "<td><b><a href=\"http://informatica.ulusofona.pt/wp-content/uploads/sites/57/2022/10/TFC_22_DEISI232.pdf\" rel=\"noopener\" target=\"_blank\">Plataforma de gestão de eventos – v3 (projecto individual)</a></b> <a href=\"https://www.youtube.com/watch?v=KZt8T-aAjNA\" rel=\"noopener\" target=\"_blank\">🎬</a></td>\n",
       "<td>Bruno Cipriano</td>\n",
       "<td></td>\n",
       "</tr>\n",
       "<tr>\n",
       "<td>Duarte Cambra</td>\n",
       "<td><b><a href=\"http://informatica.ulusofona.pt/wp-content/uploads/sites/57/2022/10/TFC_22_DEISI237.pdf\" rel=\"noopener\" target=\"_blank\">Plataforma de gestão financeira para controlo de custos empresariais</a></b> <a href=\"https://www.youtube.com/watch?v=es9JGxIyAcM\" rel=\"noopener\" target=\"_blank\">🎬</a></td>\n",
       "<td>Pedro Serra</td>\n",
       "<td></td>\n",
       "</tr>\n",
       "<tr>\n",
       "<td>Nuno Capela<br/>\n",
       "João Luís</td>\n",
       "<td><b><a href=\"http://informatica.ulusofona.pt/wp-content/uploads/sites/57/2022/10/TFC_22_DEISI240.pdf\" rel=\"noopener\" target=\"_blank\">Software de cálculo para a gestão completa de uma competição de wakeboard</a></b> <a href=\"https://www.youtube.com/watch?v=CKc_i5fo9_c&amp;ab_cha\" rel=\"noopener\" target=\"_blank\">🎬</a></td>\n",
       "<td>Pedro Serra</td>\n",
       "<td>International World Wakeboard Federation</td>\n",
       "</tr>\n",
       "<tr>\n",
       "<td>Daniel Rocha<br/>\n",
       "Manuel Sousa</td>\n",
       "<td><b><a href=\"http://informatica.ulusofona.pt/wp-content/uploads/sites/57/2022/10/TFC_22_DEISI241.pdf\" rel=\"noopener\" target=\"_blank\">Parque de Estacionamento – Front End</a></b> <a href=\"https://www.youtube.com/watch?v=kNjaHaQUppE\" rel=\"noopener\" target=\"_blank\">🎬</a></td>\n",
       "<td>João Carvalho</td>\n",
       "<td></td>\n",
       "</tr>\n",
       "<tr>\n",
       "<td>João Garcia<br/>\n",
       "Diogo Pereira</td>\n",
       "<td><b><a href=\"http://informatica.ulusofona.pt/wp-content/uploads/sites/57/2022/10/TFC_22_DEISI243.pdf\" rel=\"noopener\" target=\"_blank\">Parque de Estacionamento – Detector de matrículas</a></b> <a href=\"https://www.youtube.com/watch?v=GK0dsIcoqvg\" rel=\"noopener\" target=\"_blank\">🎬</a></td>\n",
       "<td>João Carvalho</td>\n",
       "<td></td>\n",
       "</tr>\n",
       "<tr>\n",
       "<td>Bárbara Quaresma</td>\n",
       "<td><b><a href=\"http://informatica.ulusofona.pt/wp-content/uploads/sites/57/2022/10/TFC_22_Aluno244.pdf\" rel=\"noopener\" target=\"_blank\">UniSpirit- Rede Social Universitária com o objetivo de melhorar o percurso académico</a></b> <a href=\"https://www.youtube.com/watch?v=k10FJczHfpY\" rel=\"noopener\" target=\"_blank\">🎬</a></td>\n",
       "<td>Conceição Costa</td>\n",
       "<td></td>\n",
       "</tr>\n",
       "<tr>\n",
       "<td>Rogério Oliveira</td>\n",
       "<td><b><a href=\"http://informatica.ulusofona.pt/wp-content/uploads/sites/57/2022/10/TFC_22_DEISI263.pdf\" rel=\"noopener\" target=\"_blank\">AARO – Auto Avaliação de Risco da Organização</a></b> <a href=\"https://www.youtube.com/watch?v=79esxYAeh2E\" rel=\"noopener\" target=\"_blank\">🎬</a></td>\n",
       "<td>José Cascais Brás</td>\n",
       "<td>CGI TI Portugal</td>\n",
       "</tr>\n",
       "<tr>\n",
       "<td>Jorge Lobão</td>\n",
       "<td><b><a href=\"http://informatica.ulusofona.pt/wp-content/uploads/sites/57/2022/10/TFC_22_DEISI219.pdf\" rel=\"noopener\" target=\"_blank\">App4SHM 2.0</a></b> <a href=\"https://www.youtube.com/watch?v=ryo9N1ucz_A\" rel=\"noopener\" target=\"_blank\">🎬</a></td>\n",
       "<td>Pedro Alves</td>\n",
       "<td>Departamento de Engenharia Civil – ULHT</td>\n",
       "</tr>\n",
       "<tr>\n",
       "<td>Ricardo Faia<br/>\n",
       "Ângelo Bernardes</td>\n",
       "<td><b><a href=\"http://informatica.ulusofona.pt/wp-content/uploads/sites/57/2022/10/TFC_22_DEISI222.pdf\" rel=\"noopener\" target=\"_blank\">BestRide – back End</a></b> <a href=\"https://www.youtube.com/watch?v=gxU4hCzMXTc\" rel=\"noopener\" target=\"_blank\">🎬</a></td>\n",
       "<td>Rui Ribeiro</td>\n",
       "<td>Incubadora PLAY</td>\n",
       "</tr>\n",
       "<tr>\n",
       "<td>Muhammad Iquibal<br/>\n",
       "Afonso Colaço</td>\n",
       "<td><b><a href=\"http://informatica.ulusofona.pt/wp-content/uploads/sites/57/2022/10/TFC_22_DEISI223.pdf\" rel=\"noopener\" target=\"_blank\">Aplicação para gestão de uma AUGI e situação atual na Região da Grande Lisboa</a></b> <a href=\"https://www.youtube.com/watch?v=PLPRbUW7C4U&amp;ab_cha\" rel=\"noopener\" target=\"_blank\">🎬</a></td>\n",
       "<td>Acácio Carmona</td>\n",
       "<td>AUGI 44</td>\n",
       "</tr>\n",
       "<tr>\n",
       "<td>Matheus Alves</td>\n",
       "<td><b><a href=\"http://informatica.ulusofona.pt/wp-content/uploads/sites/57/2022/10/TFC_22_DEISI239.pdf\" rel=\"noopener\" target=\"_blank\">Aplicação móvel para avaliação de provas de wakeboard</a></b> <a href=\"https://www.youtube.com/watch?v=Y62LV_2FSPU\" rel=\"noopener\" target=\"_blank\">🎬</a></td>\n",
       "<td>Pedro Serra</td>\n",
       "<td>International World Wakeboard Federation</td>\n",
       "</tr>\n",
       "<tr>\n",
       "<td>Tiago Santos<br/>\n",
       "Rafael Ribeiro</td>\n",
       "<td><b><a href=\"http://informatica.ulusofona.pt/wp-content/uploads/sites/57/2022/10/TFC_22_Empresa251.pdf\" rel=\"noopener\" target=\"_blank\">Aplicação mobile central de apps existentes</a></b> <a href=\"https://www.youtube.com/watch?v=Vm5Zx6ySReg&amp;ab_cha\" rel=\"noopener\" target=\"_blank\">🎬</a></td>\n",
       "<td>Rui Santos</td>\n",
       "<td>Integer Consulting</td>\n",
       "</tr>\n",
       "<tr>\n",
       "<td>João Almeida<br/>\n",
       "Nuno Castilho</td>\n",
       "<td><b><a href=\"http://informatica.ulusofona.pt/wp-content/uploads/sites/57/2022/10/TFC_22_G254.pdf\" rel=\"noopener\" target=\"_blank\">Aplicação Web com recurso à ferramenta OutSystems</a></b> <a href=\"https://www.youtube.com/watch?v=p6y05LZi94M\" rel=\"noopener\" target=\"_blank\">🎬</a></td>\n",
       "<td>José Aser Lourenzo</td>\n",
       "<td></td>\n",
       "</tr>\n",
       "<tr>\n",
       "<td>Marco Viana<br/>\n",
       "Rita Santos</td>\n",
       "<td><b><a href=\"http://informatica.ulusofona.pt/wp-content/uploads/sites/57/2022/10/TFC_22_DEISI218.pdf\" rel=\"noopener\" target=\"_blank\">Gestão de centros de investigação</a></b> <a href=\"https://www.youtube.com/watch?v=0pBmIE1SJz0\" rel=\"noopener\" target=\"_blank\">🎬</a></td>\n",
       "<td>Pedro Alves</td>\n",
       "<td>CeiED (Centro de Estudos Interdisciplinares em Educação e Desenvolvimento – ULHT)</td>\n",
       "</tr>\n",
       "<tr>\n",
       "<td>Diogo Araújo</td>\n",
       "<td><b><a href=\"http://informatica.ulusofona.pt/wp-content/uploads/sites/57/2022/10/TFC_22_Aluno228.pdf\" rel=\"noopener\" target=\"_blank\">Drop-Project para Android</a></b> <a href=\"https://www.youtube.com/watch?v=YPrNa21vFEw\" rel=\"noopener\" target=\"_blank\">🎬</a></td>\n",
       "<td>Miguel Tavares</td>\n",
       "<td></td>\n",
       "</tr>\n",
       "<tr>\n",
       "<td>Xiaoyue Xie</td>\n",
       "<td><b><a href=\"http://informatica.ulusofona.pt/wp-content/uploads/sites/57/2022/10/TFC_22_DEISI260.pdf\" rel=\"noopener\" target=\"_blank\">Desenvolvimento de aplicação WEB em PHP usando o gerador de código PhpMyEDIT</a></b> <a href=\"https://www.youtube.com/watch?v=1b3-ckE3fXs\" rel=\"noopener\" target=\"_blank\">🎬</a></td>\n",
       "<td>José Aser Lourenzo</td>\n",
       "<td></td>\n",
       "</tr>\n",
       "</tbody>\n",
       "</table>"
      ]
     },
     "execution_count": 49,
     "metadata": {},
     "output_type": "execute_result"
    }
   ],
   "source": [
    " table = soup.table # retorna primeiro elemento 'table' existente\n",
    "    \n",
    "table"
   ]
  },
  {
   "cell_type": "code",
   "execution_count": 50,
   "id": "599eaf22",
   "metadata": {},
   "outputs": [
    {
     "data": {
      "text/plain": [
       "<tr>\n",
       "<th>Aluno(s)</th>\n",
       "<th>Titulo</th>\n",
       "<th>Orientador</th>\n",
       "<th>Entidade</th>\n",
       "</tr>"
      ]
     },
     "execution_count": 50,
     "metadata": {},
     "output_type": "execute_result"
    }
   ],
   "source": [
    "table.tr  # primeiro elemento 'tr'"
   ]
  },
  {
   "cell_type": "code",
   "execution_count": 52,
   "id": "22c17b2e",
   "metadata": {},
   "outputs": [
    {
     "data": {
      "text/plain": [
       "[<tr>\n",
       " <th>Aluno(s)</th>\n",
       " <th>Titulo</th>\n",
       " <th>Orientador</th>\n",
       " <th>Entidade</th>\n",
       " </tr>,\n",
       " <tr>\n",
       " <td>Paulo Pinto</td>\n",
       " <td><b><a href=\"http://informatica.ulusofona.pt/wp-content/uploads/sites/57/2022/10/TFC_22_DEISI258.pdf\" rel=\"noopener\" target=\"_blank\">Modelamento multi-agente de interações em grupos sociais.</a></b> <a href=\"https://www.youtube.com/watch?v=Kxuzy2PXCTc\" rel=\"noopener\" target=\"_blank\">🎬</a></td>\n",
       " <td>Manuel Marques Pita</td>\n",
       " <td></td>\n",
       " </tr>,\n",
       " <tr>\n",
       " <td>Eduardo Miranda</td>\n",
       " <td><b><a href=\"http://informatica.ulusofona.pt/wp-content/uploads/sites/57/2022/10/TFC_22_DEISI217.pdf\" rel=\"noopener\" target=\"_blank\">Site DEISI</a></b> <a href=\"https://www.youtube.com/1EctmhZAYg8\" rel=\"noopener\" target=\"_blank\">🎬</a></td>\n",
       " <td>Pedro Alves</td>\n",
       " <td></td>\n",
       " </tr>]"
      ]
     },
     "execution_count": 52,
     "metadata": {},
     "output_type": "execute_result"
    }
   ],
   "source": [
    "trs = table.find_all('tr') # lista de todos os elementos 'tr' da tabela\n",
    "\n",
    "trs[:3]"
   ]
  },
  {
   "cell_type": "code",
   "execution_count": 39,
   "id": "38ff72ef",
   "metadata": {},
   "outputs": [],
   "source": [
    "lista_tfcs = []\n",
    "\n",
    "for row in table.find_all('tr')[1:]:\n",
    "    data = row.find_all('td')\n",
    "    \n",
    "    nome = data[0].text\n",
    "    titulo = data[1].text\n",
    "    orientador = data[2].text\n",
    "    pdf = data[1].a['href']   # obtém o valor do atributo 'href' do elemento 'a'\n",
    "    \n",
    "    lista_tfcs.append(\n",
    "        {\n",
    "            'nome': nome,\n",
    "            'titulo': titulo,\n",
    "            'orientador': orientador,\n",
    "            'pdf': pdf,\n",
    "        }\n",
    "    )   "
   ]
  },
  {
   "cell_type": "code",
   "execution_count": 53,
   "id": "99be4440",
   "metadata": {},
   "outputs": [
    {
     "data": {
      "text/plain": [
       "[{'nome': 'Paulo Pinto',\n",
       "  'titulo': 'Modelamento multi-agente de interações em grupos sociais. 🎬',\n",
       "  'orientador': 'Manuel Marques Pita',\n",
       "  'pdf': 'http://informatica.ulusofona.pt/wp-content/uploads/sites/57/2022/10/TFC_22_DEISI258.pdf'},\n",
       " {'nome': 'Eduardo Miranda',\n",
       "  'titulo': 'Site DEISI 🎬',\n",
       "  'orientador': 'Pedro Alves',\n",
       "  'pdf': 'http://informatica.ulusofona.pt/wp-content/uploads/sites/57/2022/10/TFC_22_DEISI217.pdf'},\n",
       " {'nome': 'Nuno Rasteiro',\n",
       "  'titulo': 'Aplicação Web para transformação digital do protocolo MentHA 🎬',\n",
       "  'orientador': 'Lúcio Studer',\n",
       "  'pdf': 'http://informatica.ulusofona.pt/wp-content/uploads/sites/57/2022/10/TFC_22_DEISI233.pdf'}]"
      ]
     },
     "execution_count": 53,
     "metadata": {},
     "output_type": "execute_result"
    }
   ],
   "source": [
    "lista_tfcs[:3]"
   ]
  },
  {
   "cell_type": "code",
   "execution_count": null,
   "id": "b39d8dce",
   "metadata": {},
   "outputs": [],
   "source": []
  }
 ],
 "metadata": {
  "kernelspec": {
   "display_name": "Python 3 (ipykernel)",
   "language": "python",
   "name": "python3"
  },
  "language_info": {
   "codemirror_mode": {
    "name": "ipython",
    "version": 3
   },
   "file_extension": ".py",
   "mimetype": "text/x-python",
   "name": "python",
   "nbconvert_exporter": "python",
   "pygments_lexer": "ipython3",
   "version": "3.11.3"
  }
 },
 "nbformat": 4,
 "nbformat_minor": 5
}
