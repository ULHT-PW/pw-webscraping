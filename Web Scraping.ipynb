{
 "cells": [
  {
   "cell_type": "markdown",
   "id": "5d6b34e7",
   "metadata": {},
   "source": [
    "# Web scraping \n",
    "Web scraping, processo de extração de dados de uma página da Internet."
   ]
  },
  {
   "cell_type": "markdown",
   "id": "7faa730b",
   "metadata": {},
   "source": [
    "### 1. Módulo requests para obter uma página da Internet"
   ]
  },
  {
   "cell_type": "code",
   "execution_count": null,
   "id": "be7d9fc2",
   "metadata": {},
   "outputs": [],
   "source": [
    "pip install requests"
   ]
  },
  {
   "cell_type": "code",
   "execution_count": null,
   "id": "a75ac915",
   "metadata": {},
   "outputs": [],
   "source": [
    "# vamos descarregar a página de TFCs do site do departamento de informática\n",
    "\n",
    "url = 'https://informatica.ulusofona.pt/defesas/trabalhos-finais-de-curso/'"
   ]
  },
  {
   "cell_type": "code",
   "execution_count": 43,
   "id": "a85431d1",
   "metadata": {},
   "outputs": [
    {
     "data": {
      "text/plain": [
       "b'<!DOCTYPE html>\\n<html lang=\"pt-PT\">\\n    <head>\\n        <meta charset=\"UTF-8\">\\n        <meta http-equiv=\"X-UA-Compatible\" content=\"IE=edge\">\\n        <meta name=\"viewport\" content=\"width=device-width, initial-scale=1\">\\n        <link rel=\"shortcut icon\" href=\"/wp-content/uploads/sites/57/2015/03/favicon-551a81b7v1_site_icon.png\">\\n        <link rel=\"apple-touch-icon\" href=\"/wp-content/uploads/sites/57/2015/03/favicon-551a81b7v1_site_icon.png\">\\n                <title>Trabalhos Finais de Curso &#8211;'"
      ]
     },
     "execution_count": 43,
     "metadata": {},
     "output_type": "execute_result"
    }
   ],
   "source": [
    "import requests\n",
    "\n",
    "# descarregamento do conteúdo do URL ocm pedido get\n",
    "response = requests.get(url)\n",
    "\n",
    "# conteúdo do ficheiro HTML descarregado (só primeiros 500 carateres)\n",
    "response.content[:500]"
   ]
  },
  {
   "cell_type": "markdown",
   "id": "6ee50040",
   "metadata": {},
   "source": [
    "### 2. Modulo bs4 (BeautifulSoup) para processar conteúdo HTML"
   ]
  },
  {
   "cell_type": "code",
   "execution_count": null,
   "id": "b4f41667",
   "metadata": {},
   "outputs": [],
   "source": [
    "pip install bs4"
   ]
  },
  {
   "cell_type": "code",
   "execution_count": 45,
   "id": "ee946628",
   "metadata": {},
   "outputs": [],
   "source": [
    "from bs4 import BeautifulSoup\n",
    "\n",
    "# conversão, com um analisador de HTML (parser), que permite navegar pelos elementos do ficheiro HTML como DOM \n",
    "soup = BeautifulSoup(response.content, 'html.parser')"
   ]
  },
  {
   "cell_type": "code",
   "execution_count": 48,
   "id": "fccff4bf",
   "metadata": {},
   "outputs": [
    {
     "data": {
      "text/plain": [
       "<title>Trabalhos Finais de Curso – DEISI INFORMÁTICA</title>"
      ]
     },
     "execution_count": 48,
     "metadata": {},
     "output_type": "execute_result"
    }
   ],
   "source": [
    "soup.title # as etiquetas HTML são atributos. Neste caso, retorna o elemento 'title'"
   ]
  },
  {
   "cell_type": "code",
   "execution_count": 47,
   "id": "b06e837e",
   "metadata": {},
   "outputs": [
    {
     "data": {
      "text/plain": [
       "'Trabalhos Finais de Curso – DEISI INFORMÁTICA'"
      ]
     },
     "execution_count": 47,
     "metadata": {},
     "output_type": "execute_result"
    }
   ],
   "source": [
    "soup.title.text # retorna o texto do elemento 'title'"
   ]
  },
  {
   "cell_type": "code",
   "execution_count": 55,
   "id": "62382a28",
   "metadata": {},
   "outputs": [],
   "source": [
    "table = soup.table # retorna primeiro elemento 'table' existente"
   ]
  },
  {
   "cell_type": "code",
   "execution_count": 56,
   "id": "599eaf22",
   "metadata": {},
   "outputs": [
    {
     "data": {
      "text/plain": [
       "<tr>\n",
       "<th>Aluno(s)</th>\n",
       "<th>Titulo</th>\n",
       "<th>Orientador</th>\n",
       "<th>Entidade</th>\n",
       "</tr>"
      ]
     },
     "execution_count": 56,
     "metadata": {},
     "output_type": "execute_result"
    }
   ],
   "source": [
    "table.tr  # primeiro elemento 'tr' de 'table'"
   ]
  },
  {
   "cell_type": "code",
   "execution_count": 57,
   "id": "22c17b2e",
   "metadata": {},
   "outputs": [
    {
     "data": {
      "text/plain": [
       "[<tr>\n",
       " <th>Aluno(s)</th>\n",
       " <th>Titulo</th>\n",
       " <th>Orientador</th>\n",
       " <th>Entidade</th>\n",
       " </tr>,\n",
       " <tr>\n",
       " <td>Paulo Pinto</td>\n",
       " <td><b><a href=\"http://informatica.ulusofona.pt/wp-content/uploads/sites/57/2022/10/TFC_22_DEISI258.pdf\" rel=\"noopener\" target=\"_blank\">Modelamento multi-agente de interações em grupos sociais.</a></b> <a href=\"https://www.youtube.com/watch?v=Kxuzy2PXCTc\" rel=\"noopener\" target=\"_blank\">🎬</a></td>\n",
       " <td>Manuel Marques Pita</td>\n",
       " <td></td>\n",
       " </tr>,\n",
       " <tr>\n",
       " <td>Eduardo Miranda</td>\n",
       " <td><b><a href=\"http://informatica.ulusofona.pt/wp-content/uploads/sites/57/2022/10/TFC_22_DEISI217.pdf\" rel=\"noopener\" target=\"_blank\">Site DEISI</a></b> <a href=\"https://www.youtube.com/1EctmhZAYg8\" rel=\"noopener\" target=\"_blank\">🎬</a></td>\n",
       " <td>Pedro Alves</td>\n",
       " <td></td>\n",
       " </tr>]"
      ]
     },
     "execution_count": 57,
     "metadata": {},
     "output_type": "execute_result"
    }
   ],
   "source": [
    "trs = table.find_all('tr') # lista de todos os elementos 'tr' da tabela\n",
    "\n",
    "trs[:3] # mostra apenas os 3 primeiros. São muitos!!!"
   ]
  },
  {
   "cell_type": "code",
   "execution_count": 39,
   "id": "38ff72ef",
   "metadata": {},
   "outputs": [],
   "source": [
    "lista_tfcs = []\n",
    "\n",
    "for row in table.find_all('tr')[1:]:\n",
    "    data = row.find_all('td')\n",
    "    \n",
    "    nome = data[0].text\n",
    "    titulo = data[1].text\n",
    "    orientador = data[2].text\n",
    "    pdf = data[1].a['href']   # obtém o valor do atributo 'href' do elemento 'a'\n",
    "    \n",
    "    lista_tfcs.append(\n",
    "        {\n",
    "            'nome': nome,\n",
    "            'titulo': titulo,\n",
    "            'orientador': orientador,\n",
    "            'pdf': pdf,\n",
    "        }\n",
    "    )   "
   ]
  },
  {
   "cell_type": "code",
   "execution_count": 53,
   "id": "99be4440",
   "metadata": {},
   "outputs": [
    {
     "data": {
      "text/plain": [
       "[{'nome': 'Paulo Pinto',\n",
       "  'titulo': 'Modelamento multi-agente de interações em grupos sociais. 🎬',\n",
       "  'orientador': 'Manuel Marques Pita',\n",
       "  'pdf': 'http://informatica.ulusofona.pt/wp-content/uploads/sites/57/2022/10/TFC_22_DEISI258.pdf'},\n",
       " {'nome': 'Eduardo Miranda',\n",
       "  'titulo': 'Site DEISI 🎬',\n",
       "  'orientador': 'Pedro Alves',\n",
       "  'pdf': 'http://informatica.ulusofona.pt/wp-content/uploads/sites/57/2022/10/TFC_22_DEISI217.pdf'},\n",
       " {'nome': 'Nuno Rasteiro',\n",
       "  'titulo': 'Aplicação Web para transformação digital do protocolo MentHA 🎬',\n",
       "  'orientador': 'Lúcio Studer',\n",
       "  'pdf': 'http://informatica.ulusofona.pt/wp-content/uploads/sites/57/2022/10/TFC_22_DEISI233.pdf'}]"
      ]
     },
     "execution_count": 53,
     "metadata": {},
     "output_type": "execute_result"
    }
   ],
   "source": [
    "lista_tfcs[:3]"
   ]
  },
  {
   "cell_type": "code",
   "execution_count": null,
   "id": "b39d8dce",
   "metadata": {},
   "outputs": [],
   "source": []
  }
 ],
 "metadata": {
  "kernelspec": {
   "display_name": "Python 3 (ipykernel)",
   "language": "python",
   "name": "python3"
  },
  "language_info": {
   "codemirror_mode": {
    "name": "ipython",
    "version": 3
   },
   "file_extension": ".py",
   "mimetype": "text/x-python",
   "name": "python",
   "nbconvert_exporter": "python",
   "pygments_lexer": "ipython3",
   "version": "3.11.3"
  }
 },
 "nbformat": 4,
 "nbformat_minor": 5
}
